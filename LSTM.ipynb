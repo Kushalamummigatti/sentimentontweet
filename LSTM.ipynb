{
 "cells": [
  {
   "cell_type": "code",
   "execution_count": 1,
   "source": [
    "import pandas as pd \r\n",
    "import numpy as np \r\n",
    "import seaborn as sns\r\n",
    "import matplotlib.pyplot as plt\r\n",
    "from collections import Counter\r\n",
    "from keras.optimizers import Adam\r\n",
    "from tensorflow.keras.models import Sequential\r\n",
    "import tensorflow as tf\r\n",
    "import tensorflow.keras as k\r\n",
    "from tensorflow.keras.preprocessing.text import Tokenizer\r\n",
    "from tensorflow.keras.preprocessing.sequence import pad_sequences\r\n",
    "from tensorflow.keras.layers import Dropout\r\n",
    "import re"
   ],
   "outputs": [],
   "metadata": {}
  },
  {
   "cell_type": "code",
   "execution_count": 2,
   "source": [
    "train = pd.read_csv('Data.csv')\r\n",
    "train.head()"
   ],
   "outputs": [
    {
     "output_type": "execute_result",
     "data": {
      "text/plain": [
       "     UserId  TweetId                                              Tweet  \\\n",
       "0  10030778   413205      Intravenous azithromycin-induced ototoxicity.   \n",
       "1  10048291   528244  Immobilization, while Paget's bone disease was...   \n",
       "2  10048291   361834  Unaccountable severe hypercalcemia in a patien...   \n",
       "3  10082597   292240  METHODS: We report two cases of pseudoporphyri...   \n",
       "4  10082597   467101  METHODS: We report two cases of pseudoporphyri...   \n",
       "\n",
       "   ADR_label  \n",
       "0          1  \n",
       "1          1  \n",
       "2          1  \n",
       "3          1  \n",
       "4          1  "
      ],
      "text/html": [
       "<div>\n",
       "<style scoped>\n",
       "    .dataframe tbody tr th:only-of-type {\n",
       "        vertical-align: middle;\n",
       "    }\n",
       "\n",
       "    .dataframe tbody tr th {\n",
       "        vertical-align: top;\n",
       "    }\n",
       "\n",
       "    .dataframe thead th {\n",
       "        text-align: right;\n",
       "    }\n",
       "</style>\n",
       "<table border=\"1\" class=\"dataframe\">\n",
       "  <thead>\n",
       "    <tr style=\"text-align: right;\">\n",
       "      <th></th>\n",
       "      <th>UserId</th>\n",
       "      <th>TweetId</th>\n",
       "      <th>Tweet</th>\n",
       "      <th>ADR_label</th>\n",
       "    </tr>\n",
       "  </thead>\n",
       "  <tbody>\n",
       "    <tr>\n",
       "      <th>0</th>\n",
       "      <td>10030778</td>\n",
       "      <td>413205</td>\n",
       "      <td>Intravenous azithromycin-induced ototoxicity.</td>\n",
       "      <td>1</td>\n",
       "    </tr>\n",
       "    <tr>\n",
       "      <th>1</th>\n",
       "      <td>10048291</td>\n",
       "      <td>528244</td>\n",
       "      <td>Immobilization, while Paget's bone disease was...</td>\n",
       "      <td>1</td>\n",
       "    </tr>\n",
       "    <tr>\n",
       "      <th>2</th>\n",
       "      <td>10048291</td>\n",
       "      <td>361834</td>\n",
       "      <td>Unaccountable severe hypercalcemia in a patien...</td>\n",
       "      <td>1</td>\n",
       "    </tr>\n",
       "    <tr>\n",
       "      <th>3</th>\n",
       "      <td>10082597</td>\n",
       "      <td>292240</td>\n",
       "      <td>METHODS: We report two cases of pseudoporphyri...</td>\n",
       "      <td>1</td>\n",
       "    </tr>\n",
       "    <tr>\n",
       "      <th>4</th>\n",
       "      <td>10082597</td>\n",
       "      <td>467101</td>\n",
       "      <td>METHODS: We report two cases of pseudoporphyri...</td>\n",
       "      <td>1</td>\n",
       "    </tr>\n",
       "  </tbody>\n",
       "</table>\n",
       "</div>"
      ]
     },
     "metadata": {},
     "execution_count": 2
    }
   ],
   "metadata": {}
  },
  {
   "cell_type": "code",
   "execution_count": 3,
   "source": [
    "#Am using a chunck from stack-overflow to remove all the unwanted digist,special characters and lower all the text to keep the\r\n",
    "#tweets clean\r\n",
    "def cleaned(text):\r\n",
    "    text = re.sub(r\"\\n\",\"\",text)\r\n",
    "    text = text.lower()\r\n",
    "    text = re.sub(r\"\\d\",\"\",text)        #Remove digits\r\n",
    "    text = re.sub(r'[^\\x00-\\x7f]',r' ',text) # remove non-ascii\r\n",
    "    text = re.sub(r'[^\\w\\s]','',text) #Remove punctuation\r\n",
    "    text = re.sub(r'http\\S+|www.\\S+', '', text) #Remove http\r\n",
    "    return text\r\n",
    "\r\n",
    "train['Tweet_clean'] = train['Tweet'].apply(lambda x : cleaned(x))"
   ],
   "outputs": [],
   "metadata": {}
  },
  {
   "cell_type": "code",
   "execution_count": 4,
   "source": [
    "from nltk.corpus import stopwords\r\n",
    "stop = set(stopwords.words('english'))\r\n",
    "\r\n",
    "def remove_stopwords(txt):\r\n",
    "    txt = [word.lower() for word in txt.split() if word.lower() not in stop]\r\n",
    "    return \" \".join(txt)\r\n",
    "\r\n",
    "train['Tweet_clean'] = train['Tweet_clean'].apply(lambda x : remove_stopwords(x))"
   ],
   "outputs": [],
   "metadata": {}
  },
  {
   "cell_type": "code",
   "execution_count": 5,
   "source": [
    "# Count the max length of tweet in both train and test data for converting tweets into sequences\r\n",
    "max_len = 0\r\n",
    "for i in train['Tweet_clean']:\r\n",
    "  split_i = i.split()\r\n",
    "  if len(split_i) > max_len:\r\n",
    "    max_len = len(split_i)\r\n",
    "\r\n",
    "print('Max length of tweets :', max_len)"
   ],
   "outputs": [
    {
     "output_type": "stream",
     "name": "stdout",
     "text": [
      "Max length of tweets : 66\n"
     ]
    }
   ],
   "metadata": {}
  },
  {
   "cell_type": "code",
   "execution_count": 6,
   "source": [
    "#Droppig the original Tweet column as it is redundant\r\n",
    "train = train.drop(['Tweet'], axis=1)\r\n",
    "train.head()"
   ],
   "outputs": [
    {
     "output_type": "execute_result",
     "data": {
      "text/plain": [
       "     UserId  TweetId  ADR_label  \\\n",
       "0  10030778   413205          1   \n",
       "1  10048291   528244          1   \n",
       "2  10048291   361834          1   \n",
       "3  10082597   292240          1   \n",
       "4  10082597   467101          1   \n",
       "\n",
       "                                         Tweet_clean  \n",
       "0        intravenous azithromycininduced ototoxicity  \n",
       "1  immobilization pagets bone disease present per...  \n",
       "2  unaccountable severe hypercalcemia patient tre...  \n",
       "3  methods report two cases pseudoporphyria cause...  \n",
       "4  methods report two cases pseudoporphyria cause...  "
      ],
      "text/html": [
       "<div>\n",
       "<style scoped>\n",
       "    .dataframe tbody tr th:only-of-type {\n",
       "        vertical-align: middle;\n",
       "    }\n",
       "\n",
       "    .dataframe tbody tr th {\n",
       "        vertical-align: top;\n",
       "    }\n",
       "\n",
       "    .dataframe thead th {\n",
       "        text-align: right;\n",
       "    }\n",
       "</style>\n",
       "<table border=\"1\" class=\"dataframe\">\n",
       "  <thead>\n",
       "    <tr style=\"text-align: right;\">\n",
       "      <th></th>\n",
       "      <th>UserId</th>\n",
       "      <th>TweetId</th>\n",
       "      <th>ADR_label</th>\n",
       "      <th>Tweet_clean</th>\n",
       "    </tr>\n",
       "  </thead>\n",
       "  <tbody>\n",
       "    <tr>\n",
       "      <th>0</th>\n",
       "      <td>10030778</td>\n",
       "      <td>413205</td>\n",
       "      <td>1</td>\n",
       "      <td>intravenous azithromycininduced ototoxicity</td>\n",
       "    </tr>\n",
       "    <tr>\n",
       "      <th>1</th>\n",
       "      <td>10048291</td>\n",
       "      <td>528244</td>\n",
       "      <td>1</td>\n",
       "      <td>immobilization pagets bone disease present per...</td>\n",
       "    </tr>\n",
       "    <tr>\n",
       "      <th>2</th>\n",
       "      <td>10048291</td>\n",
       "      <td>361834</td>\n",
       "      <td>1</td>\n",
       "      <td>unaccountable severe hypercalcemia patient tre...</td>\n",
       "    </tr>\n",
       "    <tr>\n",
       "      <th>3</th>\n",
       "      <td>10082597</td>\n",
       "      <td>292240</td>\n",
       "      <td>1</td>\n",
       "      <td>methods report two cases pseudoporphyria cause...</td>\n",
       "    </tr>\n",
       "    <tr>\n",
       "      <th>4</th>\n",
       "      <td>10082597</td>\n",
       "      <td>467101</td>\n",
       "      <td>1</td>\n",
       "      <td>methods report two cases pseudoporphyria cause...</td>\n",
       "    </tr>\n",
       "  </tbody>\n",
       "</table>\n",
       "</div>"
      ]
     },
     "metadata": {},
     "execution_count": 6
    }
   ],
   "metadata": {}
  },
  {
   "cell_type": "code",
   "execution_count": 7,
   "source": [
    "from sklearn.model_selection import train_test_split\r\n",
    "X_train, X_val, y_train, y_val = train_test_split(train['Tweet_clean'],train['ADR_label'])"
   ],
   "outputs": [],
   "metadata": {}
  },
  {
   "cell_type": "code",
   "execution_count": 8,
   "source": [
    "vocab = 80000\r\n",
    "oov = '<OOV>'\r\n",
    "embedding = 32\r\n",
    "padding = 'post'\r\n",
    "truncate = 'post'"
   ],
   "outputs": [],
   "metadata": {}
  },
  {
   "cell_type": "code",
   "execution_count": 9,
   "source": [
    "tokenizer = Tokenizer(num_words = vocab, oov_token = oov)\r\n",
    "tokenizer.fit_on_texts(X_train)\r\n",
    "#word_index = tokenizer.word_index"
   ],
   "outputs": [],
   "metadata": {}
  },
  {
   "cell_type": "code",
   "execution_count": 10,
   "source": [
    "maxlength=max(len(txt) for txt in X_train)\r\n",
    "#print(maxlength)\r\n",
    "maxlength=20"
   ],
   "outputs": [],
   "metadata": {}
  },
  {
   "cell_type": "code",
   "execution_count": 11,
   "source": [
    "X_train_tok = tokenizer.texts_to_sequences(X_train)\r\n",
    "X_train_tok_pad = pad_sequences(X_train_tok, maxlen=maxlength, padding=padding, truncating=truncate)\r\n",
    "\r\n",
    "X_val_tok = tokenizer.texts_to_sequences(X_val)\r\n",
    "X_val_tok_pad = pad_sequences(X_val_tok, maxlen=maxlength, padding=padding, truncating=truncate)\r\n",
    "\r\n",
    "y_train_values = y_train.values\r\n",
    "y_val_values = y_val.values\r\n"
   ],
   "outputs": [],
   "metadata": {}
  },
  {
   "cell_type": "code",
   "execution_count": 16,
   "source": [
    "from keras import layers \r\n",
    "\r\n",
    "model = tf.keras.Sequential([\r\n",
    "    layers.Embedding(vocab, embedding, input_length=maxlength),\r\n",
    "    layers.Dense(10, activation='relu'),\r\n",
    "    layers.Bidirectional(layers.LSTM(128,return_sequences = True)),\r\n",
    "    layers.LSTM(64),\r\n",
    "    layers.Dropout(0.3),\r\n",
    "    layers.Flatten(),\r\n",
    "    layers.Dense(units = 10,activation = 'relu'),\r\n",
    "    layers.Dropout(0.3),\r\n",
    "    layers.Dense(units = 1, activation = 'sigmoid')\r\n",
    "])\r\n",
    "model.summary()"
   ],
   "outputs": [
    {
     "output_type": "stream",
     "name": "stdout",
     "text": [
      "Model: \"sequential_1\"\n",
      "_________________________________________________________________\n",
      "Layer (type)                 Output Shape              Param #   \n",
      "=================================================================\n",
      "embedding_1 (Embedding)      (None, 20, 32)            2560000   \n",
      "_________________________________________________________________\n",
      "dense_3 (Dense)              (None, 20, 10)            330       \n",
      "_________________________________________________________________\n",
      "bidirectional_1 (Bidirection (None, 20, 256)           142336    \n",
      "_________________________________________________________________\n",
      "lstm_3 (LSTM)                (None, 64)                82176     \n",
      "_________________________________________________________________\n",
      "dropout_2 (Dropout)          (None, 64)                0         \n",
      "_________________________________________________________________\n",
      "flatten_1 (Flatten)          (None, 64)                0         \n",
      "_________________________________________________________________\n",
      "dense_4 (Dense)              (None, 10)                650       \n",
      "_________________________________________________________________\n",
      "dropout_3 (Dropout)          (None, 10)                0         \n",
      "_________________________________________________________________\n",
      "dense_5 (Dense)              (None, 1)                 11        \n",
      "=================================================================\n",
      "Total params: 2,785,503\n",
      "Trainable params: 2,785,503\n",
      "Non-trainable params: 0\n",
      "_________________________________________________________________\n"
     ]
    }
   ],
   "metadata": {}
  },
  {
   "cell_type": "code",
   "execution_count": 17,
   "source": [
    "model.compile(\r\n",
    "    loss='binary_crossentropy',\r\n",
    "    optimizer=tf.keras.optimizers.Adam(learning_rate = 0.001),\r\n",
    "    metrics=['accuracy']\r\n",
    ")"
   ],
   "outputs": [],
   "metadata": {}
  },
  {
   "cell_type": "code",
   "execution_count": 18,
   "source": [
    "from tensorflow.keras.callbacks import EarlyStopping\r\n",
    "early_stop = EarlyStopping(monitor='val_loss',patience=2)\r\n"
   ],
   "outputs": [],
   "metadata": {}
  },
  {
   "cell_type": "code",
   "execution_count": 19,
   "source": [
    "batch_size = 1024\r\n",
    "history = model.fit(\r\n",
    "    X_train_tok_pad,\r\n",
    "    y_train_values,\r\n",
    "    epochs = 30,\r\n",
    "    batch_size=batch_size,\r\n",
    "    validation_data = (X_val_tok_pad, y_val_values),\r\n",
    "    callbacks=[early_stop]\r\n",
    ")"
   ],
   "outputs": [
    {
     "output_type": "stream",
     "name": "stdout",
     "text": [
      "Epoch 1/30\n",
      "18/18 [==============================] - 43s 1s/step - loss: 0.6588 - accuracy: 0.6526 - val_loss: 0.6030 - val_accuracy: 0.7069\n",
      "Epoch 2/30\n",
      "18/18 [==============================] - 22s 1s/step - loss: 0.5976 - accuracy: 0.7088 - val_loss: 0.5214 - val_accuracy: 0.7627\n",
      "Epoch 3/30\n",
      "18/18 [==============================] - 21s 1s/step - loss: 0.4633 - accuracy: 0.8065 - val_loss: 0.4049 - val_accuracy: 0.8161\n",
      "Epoch 4/30\n",
      "18/18 [==============================] - 22s 1s/step - loss: 0.3227 - accuracy: 0.8776 - val_loss: 0.3440 - val_accuracy: 0.8524\n",
      "Epoch 5/30\n",
      "18/18 [==============================] - 21s 1s/step - loss: 0.2138 - accuracy: 0.9264 - val_loss: 0.3702 - val_accuracy: 0.8512\n",
      "Epoch 6/30\n",
      "18/18 [==============================] - 21s 1s/step - loss: 0.1600 - accuracy: 0.9508 - val_loss: 0.3837 - val_accuracy: 0.8694\n"
     ]
    }
   ],
   "metadata": {}
  },
  {
   "cell_type": "code",
   "execution_count": 20,
   "source": [
    "history_df = pd.DataFrame(history.history)\r\n",
    "history_df.loc[0:, ['loss', 'val_loss']].plot()\r\n",
    "plt.show()"
   ],
   "outputs": [
    {
     "output_type": "display_data",
     "data": {
      "text/plain": [
       "<Figure size 432x288 with 1 Axes>"
      ],
      "image/png": "[encoded data removed]"
     },
     "metadata": {
      "needs_background": "light"
     }
    }
   ],
   "metadata": {}
  },
  {
   "cell_type": "code",
   "execution_count": 24,
   "source": [
    "score, acc = model.evaluate(X_val_tok_pad,y_val_values, verbose = 2, batch_size = batch_size)\r\n",
    "print(\"The loss of this model: %.2f\" % (score))\r\n",
    "print(\"The accuracy of this model: %.2f\" % (acc))"
   ],
   "outputs": [
    {
     "output_type": "stream",
     "name": "stdout",
     "text": [
      "6/6 - 6s - loss: 0.3837 - accuracy: 0.8694\n",
      "The loss of this model: 0.38\n",
      "The accuracy of this model: 0.87\n"
     ]
    }
   ],
   "metadata": {}
  },
  {
   "cell_type": "code",
   "execution_count": 25,
   "source": [
    "predictions = model.predict(X_val_tok_pad)"
   ],
   "outputs": [],
   "metadata": {}
  },
  {
   "cell_type": "code",
   "execution_count": 29,
   "source": [
    "print('Prediction samples', predictions[:-5])\r\n",
    "# Show the shape of prediction, and the number of rows should be same to number of test data\r\n",
    "#print('The shape of predictions:', predictions.shape)"
   ],
   "outputs": [
    {
     "output_type": "stream",
     "name": "stdout",
     "text": [
      "Prediction samples [[0.3323053 ]\n",
      " [0.00102463]\n",
      " [0.00728279]\n",
      " ...\n",
      " [0.9599621 ]\n",
      " [0.00661716]\n",
      " [0.70113397]]\n"
     ]
    }
   ],
   "metadata": {}
  },
  {
   "cell_type": "code",
   "execution_count": 30,
   "source": [
    "prediction_binary = np.round(predictions)\r\n",
    "print('Prediction binary expression samples', prediction_binary[:-5])\r\n",
    "\r\n",
    "# Let's turn the prediction from [0, 1] and [1, 0] into 0(negative) and 4(positive)\r\n",
    "prediction_final = []\r\n",
    "for each_pediction in prediction_binary:\r\n",
    "  if each_pediction[0] == 1:\r\n",
    "    prediction_final.append(0)\r\n",
    "  else:\r\n",
    "    prediction_final.append(1)"
   ],
   "outputs": [
    {
     "output_type": "stream",
     "name": "stdout",
     "text": [
      "Prediction binary expression samples [[0.]\n",
      " [0.]\n",
      " [0.]\n",
      " ...\n",
      " [1.]\n",
      " [0.]\n",
      " [1.]]\n"
     ]
    }
   ],
   "metadata": {}
  },
  {
   "cell_type": "code",
   "execution_count": null,
   "source": [],
   "outputs": [],
   "metadata": {}
  }
 ],
 "metadata": {
  "orig_nbformat": 4,
  "language_info": {
   "name": "python",
   "version": "3.8.5",
   "mimetype": "text/x-python",
   "codemirror_mode": {
    "name": "ipython",
    "version": 3
   },
   "pygments_lexer": "ipython3",
   "nbconvert_exporter": "python",
   "file_extension": ".py"
  },
  "kernelspec": {
   "name": "python3",
   "display_name": "Python 3.8.5 64-bit ('base': conda)"
  },
  "interpreter": {
   "hash": "cd8ac7ed5329ff1f59a8356dfddf06d159cf18414acbfd7b13d1d5cd1cbb5d7d"
  }
 },
 "nbformat": 4,
 "nbformat_minor": 2
}