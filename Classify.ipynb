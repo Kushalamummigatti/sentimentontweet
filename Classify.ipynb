{
    "cells": [
        {
            "cell_type": "code",
            "execution_count": 251,
            "source": [
                "import pandas as pd \r\n",
                "import numpy as np \r\n",
                "import seaborn as sns\r\n",
                "import matplotlib.pyplot as plt\r\n",
                "from collections import Counter\r\n",
                "from keras.initializers import Constant\r\n",
                "from nltk.tokenize import word_tokenize\r\n",
                "from keras.preprocessing.text import Tokenizer\r\n",
                "from sklearn.model_selection import train_test_split\r\n",
                "from keras.preprocessing.sequence import pad_sequences\r\n",
                "from keras.optimizers import Adam\r\n",
                "from sklearn.feature_extraction.text import CountVectorizer\r\n",
                "from keras.preprocessing.text import Tokenizer\r\n",
                "from tensorflow import keras\r\n",
                "from tensorflow.keras.models import Sequential\r\n",
                "from tensorflow.keras.models import Sequential\r\n",
                "from tensorflow.keras.layers import Dense, SpatialDropout1D, Embedding, LSTM\r\n",
                "from tensorflow.keras.layers import Dropout\r\n",
                "import re"
            ],
            "outputs": [],
            "metadata": {}
        },
        {
            "cell_type": "code",
            "execution_count": 252,
            "source": [
                "train = pd.read_csv('Data.csv')\r\n",
                "train.head()"
            ],
            "outputs": [
                {
                    "output_type": "execute_result",
                    "data": {
                        "text/plain": [
                            "     UserId  TweetId                                              Tweet  \\\n",
                            "0  10030778   413205      Intravenous azithromycin-induced ototoxicity.   \n",
                            "1  10048291   528244  Immobilization, while Paget's bone disease was...   \n",
                            "2  10048291   361834  Unaccountable severe hypercalcemia in a patien...   \n",
                            "3  10082597   292240  METHODS: We report two cases of pseudoporphyri...   \n",
                            "4  10082597   467101  METHODS: We report two cases of pseudoporphyri...   \n",
                            "\n",
                            "   ADR_label  \n",
                            "0          1  \n",
                            "1          1  \n",
                            "2          1  \n",
                            "3          1  \n",
                            "4          1  "
                        ],
                        "text/html": [
                            "<div>\n",
                            "<style scoped>\n",
                            "    .dataframe tbody tr th:only-of-type {\n",
                            "        vertical-align: middle;\n",
                            "    }\n",
                            "\n",
                            "    .dataframe tbody tr th {\n",
                            "        vertical-align: top;\n",
                            "    }\n",
                            "\n",
                            "    .dataframe thead th {\n",
                            "        text-align: right;\n",
                            "    }\n",
                            "</style>\n",
                            "<table border=\"1\" class=\"dataframe\">\n",
                            "  <thead>\n",
                            "    <tr style=\"text-align: right;\">\n",
                            "      <th></th>\n",
                            "      <th>UserId</th>\n",
                            "      <th>TweetId</th>\n",
                            "      <th>Tweet</th>\n",
                            "      <th>ADR_label</th>\n",
                            "    </tr>\n",
                            "  </thead>\n",
                            "  <tbody>\n",
                            "    <tr>\n",
                            "      <th>0</th>\n",
                            "      <td>10030778</td>\n",
                            "      <td>413205</td>\n",
                            "      <td>Intravenous azithromycin-induced ototoxicity.</td>\n",
                            "      <td>1</td>\n",
                            "    </tr>\n",
                            "    <tr>\n",
                            "      <th>1</th>\n",
                            "      <td>10048291</td>\n",
                            "      <td>528244</td>\n",
                            "      <td>Immobilization, while Paget's bone disease was...</td>\n",
                            "      <td>1</td>\n",
                            "    </tr>\n",
                            "    <tr>\n",
                            "      <th>2</th>\n",
                            "      <td>10048291</td>\n",
                            "      <td>361834</td>\n",
                            "      <td>Unaccountable severe hypercalcemia in a patien...</td>\n",
                            "      <td>1</td>\n",
                            "    </tr>\n",
                            "    <tr>\n",
                            "      <th>3</th>\n",
                            "      <td>10082597</td>\n",
                            "      <td>292240</td>\n",
                            "      <td>METHODS: We report two cases of pseudoporphyri...</td>\n",
                            "      <td>1</td>\n",
                            "    </tr>\n",
                            "    <tr>\n",
                            "      <th>4</th>\n",
                            "      <td>10082597</td>\n",
                            "      <td>467101</td>\n",
                            "      <td>METHODS: We report two cases of pseudoporphyri...</td>\n",
                            "      <td>1</td>\n",
                            "    </tr>\n",
                            "  </tbody>\n",
                            "</table>\n",
                            "</div>"
                        ]
                    },
                    "metadata": {},
                    "execution_count": 252
                }
            ],
            "metadata": {}
        },
        {
            "cell_type": "code",
            "execution_count": 253,
            "source": [
                "print(\"There are {} observations and {} features in this dataset\".format(train.shape[0],train.shape[1]))"
            ],
            "outputs": [
                {
                    "output_type": "stream",
                    "name": "stdout",
                    "text": [
                        "There are 23516 observations and 4 features in this dataset\n"
                    ]
                }
            ],
            "metadata": {}
        },
        {
            "cell_type": "code",
            "execution_count": 254,
            "source": [
                "#The text seems not to have lot of special characters and requires less of pre-processing techniques\r\n",
                "train.Tweet.head(10)"
            ],
            "outputs": [
                {
                    "output_type": "execute_result",
                    "data": {
                        "text/plain": [
                            "0        Intravenous azithromycin-induced ototoxicity.\n",
                            "1    Immobilization, while Paget's bone disease was...\n",
                            "2    Unaccountable severe hypercalcemia in a patien...\n",
                            "3    METHODS: We report two cases of pseudoporphyri...\n",
                            "4    METHODS: We report two cases of pseudoporphyri...\n",
                            "5    Naproxen, the most common offender, has been a...\n",
                            "6    RESULTS: A 44-year-old man taking naproxen for...\n",
                            "7    RESULTS: A 44-year-old man taking naproxen for...\n",
                            "8    RESULTS: A 44-year-old man taking naproxen for...\n",
                            "9    RESULTS: A 44-year-old man taking naproxen for...\n",
                            "Name: Tweet, dtype: object"
                        ]
                    },
                    "metadata": {},
                    "execution_count": 254
                }
            ],
            "metadata": {}
        },
        {
            "cell_type": "code",
            "execution_count": 255,
            "source": [
                "#Am using a chunck from stack-overflow to remove all the unwanted digist,special characters and lower all the text to keep the\r\n",
                "#tweets clean\r\n",
                "def cleaned(text):\r\n",
                "    text = re.sub(r\"\\n\",\"\",text)\r\n",
                "    text = text.lower()\r\n",
                "    text = re.sub(r\"\\d\",\"\",text)        #Remove digits\r\n",
                "    text = re.sub(r'[^\\x00-\\x7f]',r' ',text) # remove non-ascii\r\n",
                "    text = re.sub(r'[^\\w\\s]','',text) #Remove punctuation\r\n",
                "    text = re.sub(r'http\\S+|www.\\S+', '', text) #Remove http\r\n",
                "    return text\r\n",
                "\r\n",
                "train['Tweet_clean'] = train['Tweet'].apply(lambda x : cleaned(x))"
            ],
            "outputs": [],
            "metadata": {}
        },
        {
            "cell_type": "code",
            "execution_count": 256,
            "source": [
                "#Droppig the original Tweet column as it is redundant\r\n",
                "train = train.drop(['Tweet'], axis=1)\r\n",
                "train.head()"
            ],
            "outputs": [
                {
                    "output_type": "execute_result",
                    "data": {
                        "text/plain": [
                            "     UserId  TweetId  ADR_label  \\\n",
                            "0  10030778   413205          1   \n",
                            "1  10048291   528244          1   \n",
                            "2  10048291   361834          1   \n",
                            "3  10082597   292240          1   \n",
                            "4  10082597   467101          1   \n",
                            "\n",
                            "                                         Tweet_clean  \n",
                            "0        intravenous azithromycininduced ototoxicity  \n",
                            "1  immobilization while pagets bone disease was p...  \n",
                            "2  unaccountable severe hypercalcemia in a patien...  \n",
                            "3  methods we report two cases of pseudoporphyria...  \n",
                            "4  methods we report two cases of pseudoporphyria...  "
                        ],
                        "text/html": [
                            "<div>\n",
                            "<style scoped>\n",
                            "    .dataframe tbody tr th:only-of-type {\n",
                            "        vertical-align: middle;\n",
                            "    }\n",
                            "\n",
                            "    .dataframe tbody tr th {\n",
                            "        vertical-align: top;\n",
                            "    }\n",
                            "\n",
                            "    .dataframe thead th {\n",
                            "        text-align: right;\n",
                            "    }\n",
                            "</style>\n",
                            "<table border=\"1\" class=\"dataframe\">\n",
                            "  <thead>\n",
                            "    <tr style=\"text-align: right;\">\n",
                            "      <th></th>\n",
                            "      <th>UserId</th>\n",
                            "      <th>TweetId</th>\n",
                            "      <th>ADR_label</th>\n",
                            "      <th>Tweet_clean</th>\n",
                            "    </tr>\n",
                            "  </thead>\n",
                            "  <tbody>\n",
                            "    <tr>\n",
                            "      <th>0</th>\n",
                            "      <td>10030778</td>\n",
                            "      <td>413205</td>\n",
                            "      <td>1</td>\n",
                            "      <td>intravenous azithromycininduced ototoxicity</td>\n",
                            "    </tr>\n",
                            "    <tr>\n",
                            "      <th>1</th>\n",
                            "      <td>10048291</td>\n",
                            "      <td>528244</td>\n",
                            "      <td>1</td>\n",
                            "      <td>immobilization while pagets bone disease was p...</td>\n",
                            "    </tr>\n",
                            "    <tr>\n",
                            "      <th>2</th>\n",
                            "      <td>10048291</td>\n",
                            "      <td>361834</td>\n",
                            "      <td>1</td>\n",
                            "      <td>unaccountable severe hypercalcemia in a patien...</td>\n",
                            "    </tr>\n",
                            "    <tr>\n",
                            "      <th>3</th>\n",
                            "      <td>10082597</td>\n",
                            "      <td>292240</td>\n",
                            "      <td>1</td>\n",
                            "      <td>methods we report two cases of pseudoporphyria...</td>\n",
                            "    </tr>\n",
                            "    <tr>\n",
                            "      <th>4</th>\n",
                            "      <td>10082597</td>\n",
                            "      <td>467101</td>\n",
                            "      <td>1</td>\n",
                            "      <td>methods we report two cases of pseudoporphyria...</td>\n",
                            "    </tr>\n",
                            "  </tbody>\n",
                            "</table>\n",
                            "</div>"
                        ]
                    },
                    "metadata": {},
                    "execution_count": 256
                }
            ],
            "metadata": {}
        },
        {
            "cell_type": "code",
            "execution_count": 257,
            "source": [
                "#Trying to have a view on class imbalance in the target feature. \r\n",
                "plt.figure(figsize=(9,6))\r\n",
                "sns.countplot(x='ADR_label', data=train)"
            ],
            "outputs": [
                {
                    "output_type": "execute_result",
                    "data": {
                        "text/plain": [
                            "<AxesSubplot:xlabel='ADR_label', ylabel='count'>"
                        ]
                    },
                    "metadata": {},
                    "execution_count": 257
                },
                {
                    "output_type": "display_data",
                    "data": {
                        "text/plain": [
                            "<Figure size 648x432 with 1 Axes>"
                        ],
                        "image/png": "[encoded data removed]"
                    },
                    "metadata": {
                        "needs_background": "light"
                    }
                }
            ],
            "metadata": {}
        },
        {
            "cell_type": "code",
            "execution_count": 258,
            "source": [
                "from nltk.corpus import stopwords\r\n",
                "stop = set(stopwords.words('english'))\r\n",
                "\r\n",
                "def remove_stopwords(txt):\r\n",
                "    txt = [word.lower() for word in txt.split() if word.lower() not in stop]\r\n",
                "    return \" \".join(txt)\r\n",
                "\r\n",
                "train['Tweet_clean'] = train['Tweet_clean'].apply(lambda x : remove_stopwords(x))"
            ],
            "outputs": [],
            "metadata": {}
        },
        {
            "cell_type": "code",
            "execution_count": 259,
            "source": [
                "#Am creating the corpus for target label 1 and 0 given to us. \r\n",
                "# Create the function to make the corpus\r\n",
                "def create_corpus(target):\r\n",
                "    corpus=[]\r\n",
                "    for x in train[train['ADR_label']==target]['Tweet_clean'].str.split():\r\n",
                "        for i in x:\r\n",
                "            corpus.append(i)\r\n",
                "    return corpus\r\n",
                "\r\n",
                "corpus_positive = create_corpus(1) # corpus for the positive tweets\r\n",
                "corpus_negative = create_corpus(0) # corpus for the negative tweets\r\n",
                "\r\n",
                "print('Length of positive corpus is', len(corpus_positive))\r\n",
                "print('Length of negative corpus is', len(corpus_negative))"
            ],
            "outputs": [
                {
                    "output_type": "stream",
                    "name": "stdout",
                    "text": [
                        "Length of positive corpus is 90838\n",
                        "Length of negative corpus is 183593\n"
                    ]
                }
            ],
            "metadata": {}
        },
        {
            "cell_type": "code",
            "execution_count": 280,
            "source": [
                "# Let's create the function to extract the most common 30 words from the corpus \r\n",
                "def common_word(corpus):\r\n",
                "    for idx, low in enumerate(corpus):\r\n",
                "        corpus[idx] = low.lower()\r\n",
                "    counter = Counter(corpus)\r\n",
                "    stop_word_dict = {}\r\n",
                "    for i in range(1,31):\r\n",
                "        for stop in counter.most_common(i):\r\n",
                "            stop_key = str(stop[0])\r\n",
                "            stop_value = stop[1]\r\n",
                "            stop_word_dict[stop_key] = stop_value\r\n",
                "    return stop_word_dict\r\n",
                "\r\n",
                "common_positive = common_word(corpus_positive)\r\n",
                "common_positive_sorted = sorted(common_positive.items(), key=lambda x:x[1], reverse=True)\r\n",
                "\r\n",
                "# Let's show the words and how many did they appear in the positive tweets\r\n",
                "word_count_list, common_word_list = [], []\r\n",
                "for word_count in common_positive_sorted:\r\n",
                "  common_word_list.append(word_count[0])\r\n",
                "  word_count_list.append(word_count[1])\r\n",
                "\r\n",
                "plt.figure(figsize=(30,8))\r\n",
                "plt.title('Top 30 words appeared the most in the positive tweets')\r\n",
                "plt.xlabel('top 30 words')\r\n",
                "plt.ylabel('count')\r\n",
                "plt.bar(common_word_list, word_count_list, alpha=0.6, color='r')"
            ],
            "outputs": [
                {
                    "output_type": "execute_result",
                    "data": {
                        "text/plain": [
                            "<BarContainer object of 30 artists>"
                        ]
                    },
                    "metadata": {},
                    "execution_count": 280
                },
                {
                    "output_type": "display_data",
                    "data": {
                        "text/plain": [
                            "<Figure size 2160x576 with 1 Axes>"
                        ],
                        "image/png": "[encoded data removed]"
                    },
                    "metadata": {
                        "needs_background": "light"
                    }
                }
            ],
            "metadata": {}
        },
        {
            "cell_type": "code",
            "execution_count": 281,
            "source": [
                "# Let's show the words and how many did they appear in the negative tweets\r\n",
                "common_negative = common_word(corpus_negative)\r\n",
                "common_negative_sorted = sorted(common_negative.items(), key=lambda x:x[1], reverse=True)\r\n",
                "word_count_list, common_word_list = [], []\r\n",
                "for word_count in common_negative_sorted:\r\n",
                "  common_word_list.append(word_count[0])\r\n",
                "  word_count_list.append(word_count[1])\r\n",
                "\r\n",
                "plt.figure(figsize=(30,8))\r\n",
                "plt.title('Top 30 words appeared the most in the negative tweets')\r\n",
                "plt.xlabel('top 30 words')\r\n",
                "plt.ylabel('count')\r\n",
                "plt.bar(common_word_list, word_count_list, alpha=0.6, color='b')"
            ],
            "outputs": [
                {
                    "output_type": "execute_result",
                    "data": {
                        "text/plain": [
                            "<BarContainer object of 30 artists>"
                        ]
                    },
                    "metadata": {},
                    "execution_count": 281
                },
                {
                    "output_type": "display_data",
                    "data": {
                        "text/plain": [
                            "<Figure size 2160x576 with 1 Axes>"
                        ],
                        "image/png": "[encoded data removed]"
                    },
                    "metadata": {
                        "needs_background": "light"
                    }
                }
            ],
            "metadata": {}
        },
        {
            "cell_type": "code",
            "execution_count": 262,
            "source": [
                "# Count the max length of tweet in both train and test data for converting tweets into sequences\r\n",
                "max_len = 0\r\n",
                "for i in train['Tweet_clean']:\r\n",
                "  split_i = i.split()\r\n",
                "  if len(split_i) > max_len:\r\n",
                "    max_len = len(split_i)\r\n",
                "\r\n",
                "print('Max length of tweets :', max_len)"
            ],
            "outputs": [
                {
                    "output_type": "stream",
                    "name": "stdout",
                    "text": [
                        "Max length of tweets : 66\n"
                    ]
                }
            ],
            "metadata": {}
        },
        {
            "cell_type": "code",
            "execution_count": 263,
            "source": [
                "x = train.drop(\"ADR_label\",axis=1)\r\n",
                "y = train['ADR_label']\r\n",
                "\r\n",
                "train.head()"
            ],
            "outputs": [
                {
                    "output_type": "execute_result",
                    "data": {
                        "text/plain": [
                            "     UserId  TweetId  ADR_label  \\\n",
                            "0  10030778   413205          1   \n",
                            "1  10048291   528244          1   \n",
                            "2  10048291   361834          1   \n",
                            "3  10082597   292240          1   \n",
                            "4  10082597   467101          1   \n",
                            "\n",
                            "                                         Tweet_clean  \n",
                            "0        intravenous azithromycininduced ototoxicity  \n",
                            "1  immobilization pagets bone disease present per...  \n",
                            "2  unaccountable severe hypercalcemia patient tre...  \n",
                            "3  methods report two cases pseudoporphyria cause...  \n",
                            "4  methods report two cases pseudoporphyria cause...  "
                        ],
                        "text/html": [
                            "<div>\n",
                            "<style scoped>\n",
                            "    .dataframe tbody tr th:only-of-type {\n",
                            "        vertical-align: middle;\n",
                            "    }\n",
                            "\n",
                            "    .dataframe tbody tr th {\n",
                            "        vertical-align: top;\n",
                            "    }\n",
                            "\n",
                            "    .dataframe thead th {\n",
                            "        text-align: right;\n",
                            "    }\n",
                            "</style>\n",
                            "<table border=\"1\" class=\"dataframe\">\n",
                            "  <thead>\n",
                            "    <tr style=\"text-align: right;\">\n",
                            "      <th></th>\n",
                            "      <th>UserId</th>\n",
                            "      <th>TweetId</th>\n",
                            "      <th>ADR_label</th>\n",
                            "      <th>Tweet_clean</th>\n",
                            "    </tr>\n",
                            "  </thead>\n",
                            "  <tbody>\n",
                            "    <tr>\n",
                            "      <th>0</th>\n",
                            "      <td>10030778</td>\n",
                            "      <td>413205</td>\n",
                            "      <td>1</td>\n",
                            "      <td>intravenous azithromycininduced ototoxicity</td>\n",
                            "    </tr>\n",
                            "    <tr>\n",
                            "      <th>1</th>\n",
                            "      <td>10048291</td>\n",
                            "      <td>528244</td>\n",
                            "      <td>1</td>\n",
                            "      <td>immobilization pagets bone disease present per...</td>\n",
                            "    </tr>\n",
                            "    <tr>\n",
                            "      <th>2</th>\n",
                            "      <td>10048291</td>\n",
                            "      <td>361834</td>\n",
                            "      <td>1</td>\n",
                            "      <td>unaccountable severe hypercalcemia patient tre...</td>\n",
                            "    </tr>\n",
                            "    <tr>\n",
                            "      <th>3</th>\n",
                            "      <td>10082597</td>\n",
                            "      <td>292240</td>\n",
                            "      <td>1</td>\n",
                            "      <td>methods report two cases pseudoporphyria cause...</td>\n",
                            "    </tr>\n",
                            "    <tr>\n",
                            "      <th>4</th>\n",
                            "      <td>10082597</td>\n",
                            "      <td>467101</td>\n",
                            "      <td>1</td>\n",
                            "      <td>methods report two cases pseudoporphyria cause...</td>\n",
                            "    </tr>\n",
                            "  </tbody>\n",
                            "</table>\n",
                            "</div>"
                        ]
                    },
                    "metadata": {},
                    "execution_count": 263
                }
            ],
            "metadata": {}
        },
        {
            "cell_type": "code",
            "execution_count": 264,
            "source": [
                "# Convert the tweets into the sequences in train and test data\r\n",
                "max_fatures = 30000# the number of words to be used for the input of embedding layer\r\n",
                "tokenizer = Tokenizer(num_words=max_fatures, split=' ') #Create the instance of Tokenizer\r\n",
                "tokenizer.fit_on_texts(train['Tweet_clean'].values)\r\n",
                "train_converted = tokenizer.texts_to_sequences(train['Tweet_clean'].values)\r\n",
                "train_converted = pad_sequences(train_converted, maxlen=max_len) # Turning the vectors of train data into sequences \r\n"
            ],
            "outputs": [],
            "metadata": {}
        },
        {
            "cell_type": "code",
            "execution_count": 277,
            "source": [
                "train_converted"
            ],
            "outputs": [
                {
                    "output_type": "execute_result",
                    "data": {
                        "text/plain": [
                            "array([[    0,     0,     0, ...,    74, 11966,  1948],\n",
                            "       [    0,     0,     0, ...,    90, 11968,  2008],\n",
                            "       [    0,     0,     0, ...,    14,  3330,  7756],\n",
                            "       ...,\n",
                            "       [    0,     0,     0, ...,  9042,   454,   114],\n",
                            "       [    0,     0,     0, ..., 11732,  2650,  1123],\n",
                            "       [    0,     0,     0, ...,  1450,    47,    27]])"
                        ]
                    },
                    "metadata": {},
                    "execution_count": 277
                }
            ],
            "metadata": {}
        },
        {
            "cell_type": "code",
            "execution_count": 265,
            "source": [
                "from sklearn.model_selection import train_test_split\r\n",
                "X_train, X_test, Y_train, Y_test = train_test_split(train_converted,train['ADR_label'], test_size = 0.1, random_state = 42)"
            ],
            "outputs": [],
            "metadata": {}
        },
        {
            "cell_type": "code",
            "execution_count": 266,
            "source": [
                "\r\n",
                "print('The shape of train data :', X_train.shape)\r\n",
                "print('The shape of labels of train data :', Y_train.shape)\r\n",
                "print('The shape of test data :', X_test.shape)\r\n",
                "print('The shape of test label data :', Y_test.shape)"
            ],
            "outputs": [
                {
                    "output_type": "stream",
                    "name": "stdout",
                    "text": [
                        "The shape of train data : (21164, 66)\n",
                        "The shape of labels of train data : (21164,)\n",
                        "The shape of test data : (2352, 66)\n",
                        "The shape of test label data : (2352,)\n"
                    ]
                }
            ],
            "metadata": {}
        },
        {
            "cell_type": "code",
            "execution_count": 267,
            "source": [
                "import xgboost as xgb\r\n",
                "XGB_classifier = xgb.XGBClassifier()\r\n",
                "XGB_classifier.fit(X_train, Y_train)\r\n",
                "\r\n",
                "y_pred = XGB_classifier.predict(X_test)\r\n",
                "\r\n",
                "# Classification metrics\r\n",
                "from sklearn.metrics import accuracy_score, classification_report\r\n",
                "classification_report = classification_report(Y_test, y_pred)\r\n",
                "\r\n",
                "print('\\n Accuracy: ', accuracy_score(Y_test, y_pred))\r\n",
                "print('\\nClassification Report')\r\n",
                "print('======================================================')\r\n",
                "print('\\n', classification_report)"
            ],
            "outputs": [
                {
                    "output_type": "stream",
                    "name": "stderr",
                    "text": [
                        "C:\\Users\\DELL\\anaconda3\\lib\\site-packages\\xgboost\\sklearn.py:888: UserWarning: The use of label encoder in XGBClassifier is deprecated and will be removed in a future release. To remove this warning, do the following: 1) Pass option use_label_encoder=False when constructing XGBClassifier object; and 2) Encode your labels (y) as integers starting with 0, i.e. 0, 1, 2, ..., [num_class - 1].\n",
                        "  warnings.warn(label_encoder_deprecation_msg, UserWarning)\n"
                    ]
                },
                {
                    "output_type": "stream",
                    "name": "stdout",
                    "text": [
                        "[22:41:47] WARNING: C:/Users/Administrator/workspace/xgboost-win64_release_1.3.0/src/learner.cc:1061: Starting in XGBoost 1.3.0, the default evaluation metric used with the objective 'binary:logistic' was changed from 'error' to 'logloss'. Explicitly set eval_metric if you'd like to restore the old behavior.\n",
                        "\n",
                        " Accuracy:  0.8499149659863946\n",
                        "\n",
                        "Classification Report\n",
                        "======================================================\n",
                        "\n",
                        "               precision    recall  f1-score   support\n",
                        "\n",
                        "           0       0.86      0.94      0.90      1671\n",
                        "           1       0.81      0.63      0.71       681\n",
                        "\n",
                        "    accuracy                           0.85      2352\n",
                        "   macro avg       0.84      0.78      0.80      2352\n",
                        "weighted avg       0.85      0.85      0.84      2352\n",
                        "\n"
                    ]
                }
            ],
            "metadata": {}
        },
        {
            "cell_type": "code",
            "execution_count": 278,
            "source": [
                "prediction = XGB_classifier.predict(X_test)\r\n",
                "X_test"
            ],
            "outputs": [
                {
                    "output_type": "execute_result",
                    "data": {
                        "text/plain": [
                            "array([[   0,    0,    0, ...,   15,   20,   46],\n",
                            "       [   0,    0,    0, ..., 5799,  487,  353],\n",
                            "       [   0,    0,    0, ..., 7114,   10,   64],\n",
                            "       ...,\n",
                            "       [   0,    0,    0, ...,   38,  518, 3154],\n",
                            "       [   0,    0,    0, ..., 3109, 5857, 1815],\n",
                            "       [   0,    0,    0, ..., 4019,  138,    5]])"
                        ]
                    },
                    "metadata": {},
                    "execution_count": 278
                }
            ],
            "metadata": {}
        },
        {
            "cell_type": "code",
            "execution_count": 279,
            "source": [
                "prediction"
            ],
            "outputs": [
                {
                    "output_type": "execute_result",
                    "data": {
                        "text/plain": [
                            "array([0, 0, 1, ..., 0, 0, 0], dtype=int64)"
                        ]
                    },
                    "metadata": {},
                    "execution_count": 279
                }
            ],
            "metadata": {}
        }
    ],
    "metadata": {
        "orig_nbformat": 4,
        "language_info": {
            "name": "python",
            "version": "3.8.5",
            "mimetype": "text/x-python",
            "codemirror_mode": {
                "name": "ipython",
                "version": 3
            },
            "pygments_lexer": "ipython3",
            "nbconvert_exporter": "python",
            "file_extension": ".py"
        },
        "kernelspec": {
            "name": "python3",
            "display_name": "Python 3.8.5 64-bit ('base': conda)"
        },
        "interpreter": {
            "hash": "cd8ac7ed5329ff1f59a8356dfddf06d159cf18414acbfd7b13d1d5cd1cbb5d7d"
        }
    },
    "nbformat": 4,
    "nbformat_minor": 2
}